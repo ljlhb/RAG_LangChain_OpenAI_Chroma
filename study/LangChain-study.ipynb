{
 "cells": [
  {
   "metadata": {},
   "cell_type": "markdown",
   "source": [
    "LangChain的使用能帮助我们更方便地使用LLM。\n",
    "\n",
    "开发：使用 LangChain 的开源组件和第三方集成构建您的应用程序。使用LangGraph构建具有一流流媒体和人机交互支持的状态代理。\n",
    "\n",
    "生产化：使用LangSmith检查、监控和评估您的应用程序，以便您可以不断优化和自信地部署。\n",
    "\n",
    "部署：使用LangGraph 平台将您的 LangGraph 应用程序转变为可用于生产的 API 和助手。"
   ],
   "id": "4f6d117d633bbeb8"
  },
  {
   "metadata": {},
   "cell_type": "markdown",
   "source": "（1）获取聊天模型并使用：",
   "id": "ff7afa7a40217906"
  },
  {
   "metadata": {},
   "cell_type": "code",
   "outputs": [],
   "execution_count": null,
   "source": [
    "from langchain_openai import ChatOpenAI\n",
    "model = ChatOpenAI(model=\"gpt-4o-mini\")\n",
    "from langchain_core.messages import HumanMessage, SystemMessage\n",
    "messages = [\n",
    "    SystemMessage(\"Translate the following from English into Italian\"),\n",
    "    HumanMessage(\"hi!\"),\n",
    "]\n",
    "model.invoke(messages)\n",
    "# 返回AIMessage"
   ],
   "id": "87484985964890dc"
  },
  {
   "metadata": {},
   "cell_type": "markdown",
   "source": "（2）创建文档：",
   "id": "cef26a1efe7298ee"
  },
  {
   "metadata": {},
   "cell_type": "code",
   "outputs": [],
   "execution_count": null,
   "source": [
    "from langchain_core.documents import Document\n",
    "documents = [\n",
    "    Document(\n",
    "        page_content=\"Dogs are great companions, known for their loyalty and friendliness.\",\n",
    "        metadata={\"source\": \"mammal-pets-doc\"},\n",
    "    ),\n",
    "    Document(\n",
    "        page_content=\"Cats are independent pets that often enjoy their own space.\",\n",
    "        metadata={\"source\": \"mammal-pets-doc\"},\n",
    "    ),\n",
    "]\n",
    "# page_content：代表内容的字符串；\n",
    "# metadata：包含任意元数据的字典；\n",
    "# id：（可选）文档的字符串标识符。"
   ],
   "id": "35e14a8f3efc65da"
  },
  {
   "metadata": {},
   "cell_type": "markdown",
   "source": "若需要加载PDF文档：",
   "id": "e58a17eb32407779"
  },
  {
   "metadata": {},
   "cell_type": "code",
   "outputs": [],
   "execution_count": null,
   "source": [
    "from langchain_community.document_loaders import PyPDFLoader\n",
    "file_path = \"../example_data/nke-10k-2023.pdf\"\n",
    "loader = PyPDFLoader(file_path)\n",
    "docs = loader.load()\n",
    "# print(len(docs))"
   ],
   "id": "826154656cfc85f6"
  },
  {
   "metadata": {},
   "cell_type": "markdown",
   "source": "（3）文本分割：",
   "id": "3a6bd27e453a4f7a"
  },
  {
   "metadata": {},
   "cell_type": "code",
   "outputs": [],
   "execution_count": null,
   "source": [
    "from langchain_text_splitters import RecursiveCharacterTextSplitter\n",
    "text_splitter = RecursiveCharacterTextSplitter(\n",
    "    chunk_size=1000, chunk_overlap=200, add_start_index=True\n",
    ")\n",
    "all_splits = text_splitter.split_documents(docs)\n",
    "# print(len(all_splits))\n",
    "# 将文档分割成 1000 个字符的块，块之间有 200 个字符的重叠。重叠有助于减轻将语句与与其相关的重要上下文分离的可能性\n",
    "# add_start_index=True每个分割文档在初始文档中开始的字符索引作为元数据属性“start_index”保存"
   ],
   "id": "2c16a6b5822ce806"
  },
  {
   "metadata": {},
   "cell_type": "markdown",
   "source": "（4）使用OpenAI进行嵌入（将文本转换为数字向量）",
   "id": "5609da3fad4f3227"
  },
  {
   "metadata": {},
   "cell_type": "code",
   "outputs": [],
   "execution_count": null,
   "source": [
    "from langchain_openai import OpenAIEmbeddings\n",
    "embeddings = OpenAIEmbeddings(model=\"text-embedding-3-large\")"
   ],
   "id": "6fe5a7127871a19"
  },
  {
   "metadata": {},
   "cell_type": "markdown",
   "source": "（5）进行向量储存：",
   "id": "dabbb527601b728e"
  },
  {
   "metadata": {},
   "cell_type": "code",
   "outputs": [],
   "execution_count": null,
   "source": [
    "from langchain_chroma import Chroma\n",
    "vector_store = Chroma(embedding_function=embeddings)\n",
    "ids = vector_store.add_documents(documents=all_splits)"
   ],
   "id": "2eb0c2b92e83e240"
  },
  {
   "metadata": {},
   "cell_type": "markdown",
   "source": "（6）根据与字符串查询的相似性返回文档：",
   "id": "50a6dfa564ba6e4f"
  },
  {
   "metadata": {},
   "cell_type": "code",
   "outputs": [],
   "execution_count": null,
   "source": [
    "results = vector_store.similarity_search(\n",
    "    \"How many distribution centers does Nike have in the US?\"\n",
    ")\n",
    "print(results[0])"
   ],
   "id": "313079660d68444d"
  },
  {
   "metadata": {},
   "cell_type": "markdown",
   "source": "以下是RAG的一个简单实现过程（有错误，只是为了了解构建RAG的步骤）",
   "id": "1faec8309d7d9f7b"
  },
  {
   "cell_type": "code",
   "execution_count": null,
   "id": "initial_id",
   "metadata": {
    "collapsed": true
   },
   "outputs": [],
   "source": [
    "\"\"\"构建RAG程序\"\"\"\n",
    "# 选择聊天模型（OpenAI）\n",
    "from langchain_openai import ChatOpenAI\n",
    "llm = ChatOpenAI(model=\"gpt-4o-mini\")\n",
    "\n",
    "# 选择嵌入模型（OpenAI）\n",
    "from langchain_openai import OpenAIEmbeddings\n",
    "embeddings = OpenAIEmbeddings(model=\"text-embedding-3-large\")\n",
    "\n",
    "# 选择向量存储（Chroma）\n",
    "from langchain_chroma import Chroma\n",
    "vector_store = Chroma(embedding_function=embeddings)\n",
    "\n",
    "# 1、加载文档\n",
    "import bs4\n",
    "from langchain_community.document_loaders import WebBaseLoader\n",
    "\n",
    "# Only keep post title, headers, and content from the full HTML.\n",
    "bs4_strainer = bs4.SoupStrainer(class_=(\"post-title\", \"post-header\", \"post-content\"))\n",
    "loader = WebBaseLoader(\n",
    "    web_paths=(\"https://lilianweng.github.io/posts/2023-06-23-agent/\",),\n",
    "    bs_kwargs={\"parse_only\": bs4_strainer},\n",
    ")\n",
    "docs = loader.load()\n",
    "\n",
    "assert len(docs) == 1\n",
    "# 检查 docs 列表的长度是否为 1\n",
    "print(f\"Total characters: {len(docs[0].page_content)}\")\n",
    "\n",
    "# 2、拆分文档\n",
    "from langchain_text_splitters import RecursiveCharacterTextSplitter\n",
    "\n",
    "text_splitter = RecursiveCharacterTextSplitter(\n",
    "    chunk_size=1000,  # chunk size (characters)\n",
    "    chunk_overlap=200,  # chunk overlap (characters)\n",
    "    add_start_index=True,  # track index in original document\n",
    ")\n",
    "all_splits = text_splitter.split_documents(docs)\n",
    "\n",
    "print(f\"Split blog post into {len(all_splits)} sub-documents.\")\n",
    "\n",
    "# 3、存储文本块\n",
    "document_ids = vector_store.add_documents(documents=all_splits)\n",
    "\n",
    "# 4、检索和生成\n",
    "class State(TypedDict):\n",
    "    question: str\n",
    "    context: List[Document]\n",
    "    answer: str\n",
    "    \n",
    "    \n",
    "def retrieve(state: State):\n",
    "    retrieved_docs = vector_store.similarity_search(state[\"question\"])\n",
    "    return {\"context\": retrieved_docs}\n",
    "\n",
    "\n",
    "def generate(state: State):\n",
    "    docs_content = \"\\n\\n\".join(doc.page_content for doc in state[\"context\"])\n",
    "    messages = prompt.invoke({\"question\": state[\"question\"], \"context\": docs_content})\n",
    "    response = llm.invoke(messages)\n",
    "    return {\"answer\": response.content}"
   ]
  },
  {
   "metadata": {},
   "cell_type": "markdown",
   "source": [
    "了解了使用LangChain构建RAG后，我们学习LangChain中Chroma的操作：\n",
    "\n",
    "参考网站https://python.langchain.com/docs/integrations/vectorstores/chroma/"
   ],
   "id": "4ea757bcc38bdecb"
  },
  {
   "metadata": {},
   "cell_type": "markdown",
   "source": "（1）选择嵌入模型，从客户端进行初始化（此处为持久客户端）",
   "id": "1418d98268fa8b1c"
  },
  {
   "metadata": {},
   "cell_type": "code",
   "outputs": [],
   "execution_count": null,
   "source": [
    "# 选择嵌入模型\n",
    "from langchain_openai import OpenAIEmbeddings\n",
    "embeddings = OpenAIEmbeddings(model=\"text-embedding-3-large\")\n",
    "\n",
    "# 从客户端进行初始化，此处为持久客户端\n",
    "import chromadb\n",
    "persistent_client = chromadb.PersistentClient()\n",
    "collection = persistent_client.get_or_create_collection(\"collection_name\")\n",
    "collection.add(ids=[\"1\", \"2\", \"3\"], documents=[\"a\", \"b\", \"c\"])\n",
    "\n",
    "vector_store_from_client = Chroma(\n",
    "    client=persistent_client,\n",
    "    collection_name=\"collection_name\",\n",
    "    embedding_function=embeddings,\n",
    ")"
   ],
   "id": "7bec36f682761205"
  },
  {
   "metadata": {},
   "cell_type": "markdown",
   "source": "（2）向量管理操作",
   "id": "2ebf14b4b0948dd0"
  },
  {
   "metadata": {},
   "cell_type": "code",
   "outputs": [],
   "execution_count": null,
   "source": [
    "# 1、添加矢量\n",
    "from uuid import uuid4\n",
    "from langchain_core.documents import Document\n",
    "\n",
    "document_1 = Document(\n",
    "    page_content=\"I had chocolate chip pancakes and scrambled eggs for breakfast this morning.\",\n",
    "    metadata={\"source\": \"tweet\"},\n",
    "    id=1,\n",
    ")\n",
    "\n",
    "document_2 = Document(\n",
    "    page_content=\"The weather forecast for tomorrow is cloudy and overcast, with a high of 62 degrees.\",\n",
    "    metadata={\"source\": \"news\"},\n",
    "    id=2,\n",
    ")\n",
    "\n",
    "documents = [\n",
    "    document_1,\n",
    "    document_2,\n",
    "]\n",
    "uuids = [str(uuid4()) for _ in range(len(documents))]\n",
    "\n",
    "vector_store.add_documents(documents=documents, ids=uuids)\n",
    "\n",
    "# 2、更新矢量\n",
    "updated_document_1 = Document(\n",
    "    page_content=\"I had chocolate chip pancakes and fried eggs for breakfast this morning.\",\n",
    "    metadata={\"source\": \"tweet\"},\n",
    "    id=1,\n",
    ")\n",
    "\n",
    "updated_document_2 = Document(\n",
    "    page_content=\"The weather forecast for tomorrow is sunny and warm, with a high of 82 degrees.\",\n",
    "    metadata={\"source\": \"news\"},\n",
    "    id=2,\n",
    ")\n",
    "\n",
    "vector_store.update_document(document_id=uuids[0], document=updated_document_1)\n",
    "# You can also update multiple documents at once\n",
    "vector_store.update_documents(\n",
    "    ids=uuids[:2], documents=[updated_document_1, updated_document_2]\n",
    ")\n",
    "\n",
    "# 3、删除矢量\n",
    "vector_store.delete(ids=uuids[-1])"
   ],
   "id": "8623ec0304a4f9f3"
  },
  {
   "metadata": {},
   "cell_type": "markdown",
   "source": "（3）完全删除Chroma数据库",
   "id": "e483e7a521013097"
  },
  {
   "metadata": {},
   "cell_type": "code",
   "outputs": [],
   "execution_count": null,
   "source": [
    "import os\n",
    "# 删除数据库文件（如 incident.db）\n",
    "db_path = \"/content/drive/MyDrive/Colab Notebooks/incident.db\"\n",
    "os.remove(db_path)"
   ],
   "id": "60216cb0311a6096"
  },
  {
   "metadata": {},
   "cell_type": "markdown",
   "source": "（4）清空 \"pdf_pages\" collection 中的所有向量和元数据，但是数据库文件本身依然存在",
   "id": "3ff5891aba646f31"
  },
  {
   "metadata": {},
   "cell_type": "code",
   "outputs": [],
   "execution_count": null,
   "source": [
    "import chromadb\n",
    "\n",
    "# 初始化 Chroma 客户端\n",
    "client = chromadb.Client()\n",
    "\n",
    "# 获取一个已有的 collection\n",
    "collection = client.get_collection(name=\"pdf_pages\")\n",
    "\n",
    "# 清空 collection 中的所有数据\n",
    "collection.reset()"
   ],
   "id": "fff4605c6c446d6e"
  },
  {
   "metadata": {},
   "cell_type": "markdown",
   "source": "（5）重置Chroma客户端（清空客户端中所有内容）",
   "id": "fabc0286a5153a1e"
  },
  {
   "metadata": {},
   "cell_type": "code",
   "outputs": [],
   "execution_count": null,
   "source": [
    "import chromadb\n",
    "from chromadb.config import Settings\n",
    "reports_client_path = r\".db文件路径\"\n",
    "reports_client = chromadb.PersistentClient(path=reports_client_path,settings=Settings(allow_reset=True))\n",
    "reports_client.reset()"
   ],
   "id": "22efa19c71ce8479"
  },
  {
   "metadata": {},
   "cell_type": "markdown",
   "source": "（6）查询Chroma数据库中的集合列表",
   "id": "215ca36886e5d4f0"
  },
  {
   "metadata": {},
   "cell_type": "code",
   "outputs": [],
   "execution_count": null,
   "source": [
    "import chromadb\n",
    "from chromadb.config import Settings\n",
    "reports_client_path = r\"D:\\good_good_study\\111cs_study\\Python\\LLM-langchain\\accident_report.db\"\n",
    "reports_client = chromadb.PersistentClient(path=reports_client_path,settings=Settings(allow_reset=True))\n",
    "collections = reports_client.list_collections()\n",
    "print(collections)"
   ],
   "id": "ff2bcdae5f4cc993"
  }
 ],
 "metadata": {
  "kernelspec": {
   "display_name": "Python 3",
   "language": "python",
   "name": "python3"
  },
  "language_info": {
   "codemirror_mode": {
    "name": "ipython",
    "version": 2
   },
   "file_extension": ".py",
   "mimetype": "text/x-python",
   "name": "python",
   "nbconvert_exporter": "python",
   "pygments_lexer": "ipython2",
   "version": "2.7.6"
  }
 },
 "nbformat": 4,
 "nbformat_minor": 5
}
