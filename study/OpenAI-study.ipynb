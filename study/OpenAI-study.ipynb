{
 "cells": [
  {
   "metadata": {},
   "cell_type": "raw",
   "source": "对于OpenAI，我们主要使用模型的响应以及嵌入功能。",
   "id": "69aeca6880066404"
  },
  {
   "metadata": {},
   "cell_type": "raw",
   "source": [
    "（1）发出API请求并获取回答：\n",
    "运行成功即说明API请求有效。"
   ],
   "id": "fde04bb9822904e3"
  },
  {
   "metadata": {},
   "cell_type": "code",
   "outputs": [],
   "execution_count": null,
   "source": [
    "# 发出请求\n",
    "from openai import OpenAI\n",
    "client = OpenAI()\n",
    "\n",
    "completion = client.chat.completions.create(\n",
    "    model=\"gpt-4o-mini\",\n",
    "    messages=[\n",
    "        {\"role\": \"system\", \"content\": \"You are a helpful assistant.\"},\n",
    "        {\n",
    "            \"role\": \"user\",\n",
    "            \"content\": \"Write a haiku about recursion in programming.\"\n",
    "        }\n",
    "    ]\n",
    ")\n",
    "\n",
    "print(completion.choices[0].message)"
   ],
   "id": "51f8f059dc1624c9"
  },
  {
   "metadata": {},
   "cell_type": "raw",
   "source": [
    "（2）进行嵌入：\n",
    "简单了解，在实践中，只需要设置embeddingmodel=\"text-embedding-3-small\"即可。"
   ],
   "id": "a51f4f6dba52b7d6"
  },
  {
   "metadata": {},
   "cell_type": "code",
   "outputs": [],
   "execution_count": null,
   "source": [
    "# 进行嵌入\n",
    "from openai import OpenAI\n",
    "client = OpenAI()\n",
    "\n",
    "def get_embedding(text, model=\"text-embedding-3-small\"):\n",
    "    text = text.replace(\"\\n\", \" \")\n",
    "    return client.embeddings.create(input = [text], model=model).data[0].embedding\n",
    "\n",
    "df['ada_embedding'] = df.combined.apply(lambda x: get_embedding(x, model='text-embedding-3-small'))\n",
    "df.to_csv('output/embedded_1k_reviews.csv', index=False)"
   ],
   "id": "1f6eb45c6c0f2d2c"
  }
 ],
 "metadata": {
  "kernelspec": {
   "display_name": "Python 3",
   "language": "python",
   "name": "python3"
  },
  "language_info": {
   "codemirror_mode": {
    "name": "ipython",
    "version": 2
   },
   "file_extension": ".py",
   "mimetype": "text/x-python",
   "name": "python",
   "nbconvert_exporter": "python",
   "pygments_lexer": "ipython2",
   "version": "2.7.6"
  }
 },
 "nbformat": 4,
 "nbformat_minor": 5
}
